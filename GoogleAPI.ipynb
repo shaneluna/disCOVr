{
 "cells": [
  {
   "cell_type": "code",
   "execution_count": 2,
   "id": "86e3efda",
   "metadata": {
    "lines_to_next_cell": 2
   },
   "outputs": [],
   "source": [
    "# module imports\n",
    "import logging\n",
    "import os\n",
    "import pandas\n",
    "from google.cloud import language_v1\n",
    "import utilities as util"
   ]
  },
  {
   "cell_type": "code",
   "execution_count": null,
   "id": "07b22ffd",
   "metadata": {
    "lines_to_next_cell": 2
   },
   "outputs": [],
   "source": [
    "# environment variable export\n",
    "os.environ['GOOGLE_APPLICATION_CREDENTIALS'] = 'secrets/discovr-2021-c63b2ee5e9f6.json'"
   ]
  },
  {
   "cell_type": "code",
   "execution_count": null,
   "id": "ef6202d0",
   "metadata": {
    "lines_to_next_cell": 2
   },
   "outputs": [],
   "source": [
    "# google client creation\n",
    "gclient = language_v1.LanguageServiceClient()"
   ]
  },
  {
   "cell_type": "code",
   "execution_count": null,
   "id": "7f42f17d",
   "metadata": {},
   "outputs": [],
   "source": [
    "# reading news articles\n",
    "df_news = pandas.read_csv('data/reCOVery/recovery-news-data.csv')\n",
    "df_news.drop('Unnamed: 0', axis = 1, inplace = True)\n",
    "\n",
    "df_text = df_news[['news_id', 'body_text']].copy(deep = True)"
   ]
  },
  {
   "cell_type": "code",
   "execution_count": null,
   "id": "5f44da05",
   "metadata": {},
   "outputs": [],
   "source": [
    "# api function\n",
    "class GoogleAPI:\n",
    "    def __init__(self):\n",
    "        # dataframes to store query results\n",
    "        self.df_categories = pandas.DataFrame(columns = ['news_id', 'category', 'confidence'])\n",
    "        self.df_entities = pandas.DataFrame(columns = ['news_id', 'entity', 'salience'])\n",
    "        self.df_sentiment = pandas.DataFrame(columns = ['news_id', 'score', 'magnitude'])\n",
    "\n",
    "        # gclient feature options\n",
    "        self.features = language_v1.AnnotateTextRequest.Features(\n",
    "            extract_syntax = False,\n",
    "            extract_entities = True,\n",
    "            extract_document_sentiment = True,\n",
    "            extract_entity_sentiment = True,\n",
    "            classify_text = True\n",
    "        )\n",
    "\n",
    "    def query_tuple(self, tup):\n",
    "        # breaking out tuple components\n",
    "        self.news_id = tup.news_id\n",
    "        text = tup.body_text\n",
    "\n",
    "        # assembling document to send\n",
    "        document = language_v1.Document(\n",
    "            content = text,\n",
    "            type_ = language_v1.Document.Type.PLAIN_TEXT\n",
    "        )\n",
    "\n",
    "        # query response object\n",
    "        self.response = gclient.annotate_text(\n",
    "            request = {\n",
    "                'document': document,\n",
    "                'features': self.features\n",
    "            }\n",
    "        )\n",
    "    \n",
    "    def store_results(self):\n",
    "        # storing categories\n",
    "        for cat in self.response.categories:\n",
    "            row = len(self.df_categories)\n",
    "            self.df_categories.loc[row] = [self.news_id, cat.name, cat.confidence]\n",
    "        \n",
    "        # storing entities\n",
    "        thres = .005\n",
    "        is_above_thres = lambda x: x.salience > thres\n",
    "        top_entities = list(filter(is_above_thres, self.response.entities))\n",
    "        id_name_salience = [(self.news_id, x.name, x.salience) for x in top_entities]\n",
    "        df_results = pandas.DataFrame(id_name_salience, columns = ['news_id', 'entity', 'salience'])\n",
    "        self.df_entities = self.df_entities.append(df_results)\n",
    "\n",
    "        # storing sentiment\n",
    "        row = len(self.df_sentiment)\n",
    "        magnitude = self.response.document_sentiment.magnitude\n",
    "        score = self.response.document_sentiment.score\n",
    "        self.df_sentiment.loc[row] = [self.news_id, score, magnitude]"
   ]
  },
  {
   "cell_type": "code",
   "execution_count": null,
   "id": "529131c5",
   "metadata": {
    "lines_to_next_cell": 2
   },
   "outputs": [],
   "source": [
    "# initializing google api\n",
    "results = GoogleAPI()"
   ]
  },
  {
   "cell_type": "code",
   "execution_count": null,
   "id": "4f73609d",
   "metadata": {
    "lines_to_next_cell": 2
   },
   "outputs": [],
   "source": [
    "# looping through articles\n",
    "for tup in df_text.itertuples():\n",
    "    results.query_tuple(tup)\n",
    "    results.store_results()"
   ]
  },
  {
   "cell_type": "code",
   "execution_count": null,
   "id": "1015eaa5-60ae-4cc8-ae9c-dfe88ddbe975",
   "metadata": {},
   "outputs": [],
   "source": [
    "util.create_dir(\"./data/news_topics\")"
   ]
  },
  {
   "cell_type": "code",
   "execution_count": null,
   "id": "67a2a2f7",
   "metadata": {
    "lines_to_next_cell": 2
   },
   "outputs": [],
   "source": [
    "# saving results to disk\n",
    "results.df_categories.to_csv('data/news_topics/news_categories.csv', index = False)\n",
    "results.df_entities.to_csv('data/news_topics/news_entities.csv', index = False)\n",
    "results.df_sentiment.to_csv('data/news_topics/news_sentiments.csv', index = False)"
   ]
  }
 ],
 "metadata": {
  "jupytext": {
   "cell_metadata_filter": "-all",
   "main_language": "python",
   "notebook_metadata_filter": "-all"
  },
  "kernelspec": {
   "display_name": "Python 3 (ipykernel)",
   "language": "python",
   "name": "python3"
  },
  "language_info": {
   "codemirror_mode": {
    "name": "ipython",
    "version": 3
   },
   "file_extension": ".py",
   "mimetype": "text/x-python",
   "name": "python",
   "nbconvert_exporter": "python",
   "pygments_lexer": "ipython3",
   "version": "3.8.5"
  }
 },
 "nbformat": 4,
 "nbformat_minor": 5
}
