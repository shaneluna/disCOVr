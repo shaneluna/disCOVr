{
 "cells": [
  {
   "cell_type": "code",
   "execution_count": 1,
   "metadata": {},
   "outputs": [],
   "source": [
    "from pyspark.sql import SparkSession\n",
    "import pandas"
   ]
  },
  {
   "cell_type": "code",
   "execution_count": 2,
   "metadata": {},
   "outputs": [
    {
     "name": "stderr",
     "output_type": "stream",
     "text": [
      "Warning: Ignoring non-Spark config property: sprk.sql.session.timeZone\n",
      "21/11/29 08:14:07 WARN Utils: Your hostname, Shanes-MacBook-Pro-2.local resolves to a loopback address: 127.0.0.1; using 192.168.1.149 instead (on interface en0)\n",
      "21/11/29 08:14:07 WARN Utils: Set SPARK_LOCAL_IP if you need to bind to another address\n",
      "Using Spark's default log4j profile: org/apache/spark/log4j-defaults.properties\n",
      "Setting default log level to \"WARN\".\n",
      "To adjust logging level use sc.setLogLevel(newLevel). For SparkR, use setLogLevel(newLevel).\n",
      "21/11/29 08:14:08 WARN NativeCodeLoader: Unable to load native-hadoop library for your platform... using builtin-java classes where applicable\n"
     ]
    },
    {
     "data": {
      "text/html": [
       "\n",
       "            <div>\n",
       "                <p><b>SparkSession - in-memory</b></p>\n",
       "                \n",
       "        <div>\n",
       "            <p><b>SparkContext</b></p>\n",
       "\n",
       "            <p><a href=\"http://192.168.1.149:4040\">Spark UI</a></p>\n",
       "\n",
       "            <dl>\n",
       "              <dt>Version</dt>\n",
       "                <dd><code>v3.2.0</code></dd>\n",
       "              <dt>Master</dt>\n",
       "                <dd><code>local[*]</code></dd>\n",
       "              <dt>AppName</dt>\n",
       "                <dd><code>Test</code></dd>\n",
       "            </dl>\n",
       "        </div>\n",
       "        \n",
       "            </div>\n",
       "        "
      ],
      "text/plain": [
       "<pyspark.sql.session.SparkSession at 0x12bfb1be0>"
      ]
     },
     "execution_count": 2,
     "metadata": {},
     "output_type": "execute_result"
    }
   ],
   "source": [
    "spark = SparkSession.builder \\\n",
    "    .master(\"local[*]\") \\\n",
    "    .appName(\"Test\") \\\n",
    "    .config('sprk.sql.session.timeZone', 'UTC') \\\n",
    "    .getOrCreate()\n",
    "\n",
    "spark"
   ]
  },
  {
   "cell_type": "code",
   "execution_count": 3,
   "metadata": {},
   "outputs": [],
   "source": [
    "# Read Data & Create View\n",
    "\n",
    "# Method 1\n",
    "spark.read.option(\"header\", True).option(\"delimiter\", \",\").csv(\"./data/reCOVery/recovery-social-media-data.txt\").createOrReplaceTempView(\"tweets\")\n",
    "# spark.read.option(\"header\", True).option(\"delimiter\", \",\").csv(\"./data/reCOVery/recovery-social-media-data_refined-Results.csv\").createOrReplaceTempView(\"tweets\")\n",
    "\n",
    "# Method 2\n",
    "# spark.sql(\"\"\"\n",
    "# CREATE OR REPLACE TEMPORARY VIEW tweets\n",
    "# USING CSV\n",
    "# OPTIONS (\n",
    "#     path './data/full_dataset_clean.tsv',\n",
    "#     header true,\n",
    "#     delimiter '\\t'\n",
    "# )\n",
    "# \"\"\")"
   ]
  },
  {
   "cell_type": "code",
   "execution_count": 6,
   "metadata": {},
   "outputs": [
    {
     "data": {
      "text/html": [
       "<div>\n",
       "<style scoped>\n",
       "    .dataframe tbody tr th:only-of-type {\n",
       "        vertical-align: middle;\n",
       "    }\n",
       "\n",
       "    .dataframe tbody tr th {\n",
       "        vertical-align: top;\n",
       "    }\n",
       "\n",
       "    .dataframe thead th {\n",
       "        text-align: right;\n",
       "    }\n",
       "</style>\n",
       "<table border=\"1\" class=\"dataframe\">\n",
       "  <thead>\n",
       "    <tr style=\"text-align: right;\">\n",
       "      <th></th>\n",
       "      <th>tweet_id</th>\n",
       "    </tr>\n",
       "  </thead>\n",
       "  <tbody>\n",
       "    <tr>\n",
       "      <th>0</th>\n",
       "      <td>1252387836239593472</td>\n",
       "    </tr>\n",
       "    <tr>\n",
       "      <th>1</th>\n",
       "      <td>1223121049325228034</td>\n",
       "    </tr>\n",
       "    <tr>\n",
       "      <th>2</th>\n",
       "      <td>1223121502838521861</td>\n",
       "    </tr>\n",
       "    <tr>\n",
       "      <th>3</th>\n",
       "      <td>1223141036354162689</td>\n",
       "    </tr>\n",
       "    <tr>\n",
       "      <th>4</th>\n",
       "      <td>1223148934538854400</td>\n",
       "    </tr>\n",
       "    <tr>\n",
       "      <th>...</th>\n",
       "      <td>...</td>\n",
       "    </tr>\n",
       "    <tr>\n",
       "      <th>140815</th>\n",
       "      <td>1263570423511494657</td>\n",
       "    </tr>\n",
       "    <tr>\n",
       "      <th>140816</th>\n",
       "      <td>1263570017158864898</td>\n",
       "    </tr>\n",
       "    <tr>\n",
       "      <th>140817</th>\n",
       "      <td>1263256788419387393</td>\n",
       "    </tr>\n",
       "    <tr>\n",
       "      <th>140818</th>\n",
       "      <td>1263586926595944453</td>\n",
       "    </tr>\n",
       "    <tr>\n",
       "      <th>140819</th>\n",
       "      <td>1264629985299648513</td>\n",
       "    </tr>\n",
       "  </tbody>\n",
       "</table>\n",
       "<p>140820 rows × 1 columns</p>\n",
       "</div>"
      ],
      "text/plain": [
       "                   tweet_id\n",
       "0       1252387836239593472\n",
       "1       1223121049325228034\n",
       "2       1223121502838521861\n",
       "3       1223141036354162689\n",
       "4       1223148934538854400\n",
       "...                     ...\n",
       "140815  1263570423511494657\n",
       "140816  1263570017158864898\n",
       "140817  1263256788419387393\n",
       "140818  1263586926595944453\n",
       "140819  1264629985299648513\n",
       "\n",
       "[140820 rows x 1 columns]"
      ]
     },
     "execution_count": 6,
     "metadata": {},
     "output_type": "execute_result"
    }
   ],
   "source": [
    "spark.sql(\"\"\"\n",
    "SELECT tweet_id\n",
    "FROM tweets\n",
    "\"\"\").toPandas()"
   ]
  },
  {
   "cell_type": "code",
   "execution_count": null,
   "metadata": {},
   "outputs": [],
   "source": []
  },
  {
   "cell_type": "code",
   "execution_count": null,
   "metadata": {},
   "outputs": [],
   "source": []
  }
 ],
 "metadata": {
  "interpreter": {
   "hash": "5800c7bfc85eb6699f80c4ad64e8aa968cc6dd9b69aa79382372392221670231"
  },
  "kernelspec": {
   "display_name": "Python 3.9.0 64-bit ('venv': venv)",
   "language": "python",
   "name": "python3"
  },
  "language_info": {
   "codemirror_mode": {
    "name": "ipython",
    "version": 3
   },
   "file_extension": ".py",
   "mimetype": "text/x-python",
   "name": "python",
   "nbconvert_exporter": "python",
   "pygments_lexer": "ipython3",
   "version": "3.9.0"
  },
  "orig_nbformat": 4
 },
 "nbformat": 4,
 "nbformat_minor": 2
}
