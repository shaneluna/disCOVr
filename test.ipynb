{
 "cells": [
  {
   "cell_type": "code",
   "execution_count": null,
   "metadata": {},
   "outputs": [],
   "source": [
    "from pyspark.sql import SparkSession\n",
    "import pandas"
   ]
  },
  {
   "cell_type": "code",
   "execution_count": null,
   "metadata": {},
   "outputs": [],
   "source": [
    "spark = SparkSession.builder \\\n",
    "    .master(\"local[*]\") \\\n",
    "    .appName(\"Test\") \\\n",
    "    .config('sprk.sql.session.timeZone', 'UTC') \\\n",
    "    .getOrCreate()\n",
    "\n",
    "spark"
   ]
  },
  {
   "cell_type": "code",
   "execution_count": null,
   "metadata": {},
   "outputs": [],
   "source": [
    "# Read Data & Create View\n",
    "\n",
    "# Method 1\n",
    "spark.read.option(\"header\", True).option(\"delimiter\", \",\").csv(\"./data/reCOVery/recovery-social-media-data.txt\").createOrReplaceTempView(\"tweets\")\n",
    "\n",
    "# Method 2\n",
    "# spark.sql(\"\"\"\n",
    "# CREATE OR REPLACE TEMPORARY VIEW tweets\n",
    "# USING CSV\n",
    "# OPTIONS (\n",
    "#     path './data/full_dataset_clean.tsv',\n",
    "#     header true,\n",
    "#     delimiter '\\t'\n",
    "# )\n",
    "# \"\"\")"
   ]
  },
  {
   "cell_type": "code",
   "execution_count": null,
   "metadata": {},
   "outputs": [],
   "source": [
    "spark.sql(\"\"\"\n",
    "SELECT *\n",
    "FROM tweets\n",
    "LIMIT 100\n",
    "\"\"\").toPandas()"
   ]
  },
  {
   "cell_type": "code",
   "execution_count": null,
   "metadata": {},
   "outputs": [],
   "source": []
  }
 ],
 "metadata": {
  "language_info": {
   "name": "python"
  },
  "orig_nbformat": 4
 },
 "nbformat": 4,
 "nbformat_minor": 2
}
