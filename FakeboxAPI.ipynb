{
 "cells": [
  {
   "cell_type": "code",
   "execution_count": null,
   "id": "8422e372",
   "metadata": {
    "lines_to_next_cell": 2
   },
   "outputs": [],
   "source": [
    "# module imports\n",
    "import pandas\n",
    "import requests\n",
    "import utilities as util"
   ]
  },
  {
   "cell_type": "code",
   "execution_count": null,
   "id": "6b9cf689",
   "metadata": {
    "lines_to_next_cell": 2
   },
   "outputs": [],
   "source": [
    "# import data\n",
    "df_news = pandas.read_csv('data/reCOVery/recovery-news-data.csv', usecols = ['news_id', 'url', 'title', 'body_text'])"
   ]
  },
  {
   "cell_type": "code",
   "execution_count": null,
   "id": "2c1ee7eb",
   "metadata": {},
   "outputs": [],
   "source": [
    "# fakebox api function\n",
    "endpoint = 'http://192.168.1.5:8880/fakebox/check'\n",
    "headers = {'Content-Type': 'application/json; charset=utf-8'}\n",
    "keys = ('decision', 'score')\n",
    "\n",
    "def score_bias(row):\n",
    "    news_id, url, title, body_text = row\n",
    "    data = {'url': url, 'title': title, 'content': body_text}\n",
    "    response = requests.post(\n",
    "        endpoint,\n",
    "        data = data\n",
    "    )\n",
    "    status = [response.status_code, response.json()['success']]\n",
    "    title = [response.json()['title'].get(key) for key in keys]\n",
    "    content = [response.json()['content'].get(key) for key in keys]\n",
    "    domain = response.json()['domain'].get('category')\n",
    "    return pandas.Series({\n",
    "        'news_id': news_id,\n",
    "        'status_code': status[0],\n",
    "        'success': status[1],\n",
    "        'title_decision': title[0],\n",
    "        'title_score': title[1],\n",
    "        'content_decision': content[0],\n",
    "        'content_score': content[1],\n",
    "        'domain': domain\n",
    "    })"
   ]
  },
  {
   "cell_type": "code",
   "execution_count": null,
   "id": "85a6bc91",
   "metadata": {
    "lines_to_next_cell": 2
   },
   "outputs": [],
   "source": [
    "# analyze articles\n",
    "df_biases = df_news.apply(score_bias, axis = 1)"
   ]
  },
  {
   "cell_type": "code",
   "execution_count": null,
   "id": "b34a7e32-e0c4-4a4f-aed3-25e66f895d45",
   "metadata": {},
   "outputs": [],
   "source": [
    "util.create_dir(\"./data/news_biases\")"
   ]
  },
  {
   "cell_type": "code",
   "execution_count": null,
   "id": "3d037824",
   "metadata": {
    "lines_to_next_cell": 2
   },
   "outputs": [],
   "source": [
    "# saving to file\n",
    "df_biases.to_csv(f'data/news_biases/news_biases.csv', index = False)"
   ]
  }
 ],
 "metadata": {
  "jupytext": {
   "cell_metadata_filter": "-all",
   "main_language": "python",
   "notebook_metadata_filter": "-all"
  },
  "kernelspec": {
   "display_name": "Python 3 (ipykernel)",
   "language": "python",
   "name": "python3"
  },
  "language_info": {
   "codemirror_mode": {
    "name": "ipython",
    "version": 3
   },
   "file_extension": ".py",
   "mimetype": "text/x-python",
   "name": "python",
   "nbconvert_exporter": "python",
   "pygments_lexer": "ipython3",
   "version": "3.8.5"
  }
 },
 "nbformat": 4,
 "nbformat_minor": 5
}
