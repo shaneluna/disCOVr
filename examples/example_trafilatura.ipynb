{
 "cells": [
  {
   "cell_type": "markdown",
   "id": "8d43cd36",
   "metadata": {},
   "source": [
    "Reference Doc: https://trafilatura.readthedocs.io/en/latest/usage-python.html"
   ]
  },
  {
   "cell_type": "code",
   "execution_count": null,
   "id": "12d4bd4c",
   "metadata": {},
   "outputs": [],
   "source": [
    "import trafilatura"
   ]
  },
  {
   "cell_type": "code",
   "execution_count": null,
   "id": "b52b72bb",
   "metadata": {},
   "outputs": [],
   "source": [
    "if __name__ == '__main__':\n",
    "    # downloaded = trafilatura.fetch_url('https://github.blog/2019-03-29-leader-spotlight-erin-spiceland/')\n",
    "    downloaded = trafilatura.fetch_url('https://medium.com/@carusot42/installing-and-loading-spatialite-on-macos-28bf677f0436')\n",
    "    result = trafilatura.extract(downloaded)\n",
    "    print(result)"
   ]
  }
 ],
 "metadata": {
  "interpreter": {
   "hash": "5800c7bfc85eb6699f80c4ad64e8aa968cc6dd9b69aa79382372392221670231"
  },
  "jupytext": {
   "cell_metadata_filter": "-all",
   "main_language": "python",
   "notebook_metadata_filter": "-all"
  },
  "kernelspec": {
   "display_name": "Python 3.9.0 64-bit ('venv': venv)",
   "language": "python",
   "name": "python3"
  },
  "language_info": {
   "codemirror_mode": {
    "name": "ipython",
    "version": 3
   },
   "file_extension": ".py",
   "mimetype": "text/x-python",
   "name": "python",
   "nbconvert_exporter": "python",
   "pygments_lexer": "ipython3",
   "version": "3.9.0"
  }
 },
 "nbformat": 4,
 "nbformat_minor": 5
}
