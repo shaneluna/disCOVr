{
 "cells": [
  {
   "cell_type": "code",
   "execution_count": 2,
   "metadata": {},
   "outputs": [],
   "source": [
    "from pyspark.sql import SparkSession\n",
    "import pandas"
   ]
  },
  {
   "cell_type": "code",
   "execution_count": 3,
   "metadata": {},
   "outputs": [
    {
     "name": "stderr",
     "output_type": "stream",
     "text": [
      "Warning: Ignoring non-Spark config property: sprk.sql.session.timeZone\n",
      "Using Spark's default log4j profile: org/apache/spark/log4j-defaults.properties\n",
      "Setting default log level to \"WARN\".\n",
      "To adjust logging level use sc.setLogLevel(newLevel). For SparkR, use setLogLevel(newLevel).\n",
      "21/12/09 23:05:59 WARN NativeCodeLoader: Unable to load native-hadoop library for your platform... using builtin-java classes where applicable\n"
     ]
    },
    {
     "data": {
      "text/html": [
       "\n",
       "            <div>\n",
       "                <p><b>SparkSession - in-memory</b></p>\n",
       "                \n",
       "        <div>\n",
       "            <p><b>SparkContext</b></p>\n",
       "\n",
       "            <p><a href=\"http://shanes-mbp-2:4040\">Spark UI</a></p>\n",
       "\n",
       "            <dl>\n",
       "              <dt>Version</dt>\n",
       "                <dd><code>v3.2.0</code></dd>\n",
       "              <dt>Master</dt>\n",
       "                <dd><code>local[*]</code></dd>\n",
       "              <dt>AppName</dt>\n",
       "                <dd><code>Test</code></dd>\n",
       "            </dl>\n",
       "        </div>\n",
       "        \n",
       "            </div>\n",
       "        "
      ],
      "text/plain": [
       "<pyspark.sql.session.SparkSession at 0x12344ae50>"
      ]
     },
     "execution_count": 3,
     "metadata": {},
     "output_type": "execute_result"
    }
   ],
   "source": [
    "spark = SparkSession.builder \\\n",
    "    .master(\"local[*]\") \\\n",
    "    .appName(\"Test\") \\\n",
    "    .config('sprk.sql.session.timeZone', 'UTC') \\\n",
    "    .getOrCreate()\n",
    "\n",
    "spark"
   ]
  },
  {
   "cell_type": "code",
   "execution_count": 4,
   "metadata": {},
   "outputs": [],
   "source": [
    "# Read Data & Create View\n",
    "\n",
    "# Method 1\n",
    "spark.read.option(\"header\", True).option(\"delimiter\", \",\").csv(\"../data/reCOVery/recovery-social-media-data.txt\").createOrReplaceTempView(\"tweets\")\n",
    "\n",
    "# Method 2\n",
    "# spark.sql(\"\"\"\n",
    "# CREATE OR REPLACE TEMPORARY VIEW tweets\n",
    "# USING CSV\n",
    "# OPTIONS (\n",
    "#     path './data/full_dataset_clean.tsv',\n",
    "#     header true,\n",
    "#     delimiter '\\t'\n",
    "# )\n",
    "# \"\"\")"
   ]
  },
  {
   "cell_type": "code",
   "execution_count": 6,
   "metadata": {},
   "outputs": [
    {
     "data": {
      "text/html": [
       "<div>\n",
       "<style scoped>\n",
       "    .dataframe tbody tr th:only-of-type {\n",
       "        vertical-align: middle;\n",
       "    }\n",
       "\n",
       "    .dataframe tbody tr th {\n",
       "        vertical-align: top;\n",
       "    }\n",
       "\n",
       "    .dataframe thead th {\n",
       "        text-align: right;\n",
       "    }\n",
       "</style>\n",
       "<table border=\"1\" class=\"dataframe\">\n",
       "  <thead>\n",
       "    <tr style=\"text-align: right;\">\n",
       "      <th></th>\n",
       "      <th>count(1)</th>\n",
       "    </tr>\n",
       "  </thead>\n",
       "  <tbody>\n",
       "    <tr>\n",
       "      <th>0</th>\n",
       "      <td>140820</td>\n",
       "    </tr>\n",
       "  </tbody>\n",
       "</table>\n",
       "</div>"
      ],
      "text/plain": [
       "   count(1)\n",
       "0    140820"
      ]
     },
     "execution_count": 6,
     "metadata": {},
     "output_type": "execute_result"
    }
   ],
   "source": [
    "spark.sql(\"\"\"\n",
    "SELECT count(*)\n",
    "FROM tweets\n",
    "\"\"\").toPandas()"
   ]
  },
  {
   "cell_type": "code",
   "execution_count": 5,
   "metadata": {},
   "outputs": [],
   "source": [
    "# Add index column to fake \"pagination\"\n",
    "\n",
    "spark.sql(\"\"\"\n",
    "SELECT *, monotonically_increasing_id() AS idx\n",
    "FROM tweets\n",
    "\"\"\").createOrReplaceTempView(\"tweets2\")"
   ]
  },
  {
   "cell_type": "code",
   "execution_count": 7,
   "metadata": {},
   "outputs": [
    {
     "name": "stdout",
     "output_type": "stream",
     "text": [
      "0     1252387836239593472\n",
      "1     1223121049325228034\n",
      "2     1223121502838521861\n",
      "3     1223141036354162689\n",
      "4     1223148934538854400\n",
      "             ...         \n",
      "95    1222184504539975680\n",
      "96    1222184407466799105\n",
      "97    1222184314307252225\n",
      "98    1222163772061581312\n",
      "99    1222163936302129158\n",
      "Name: tweet_id, Length: 100, dtype: object\n",
      "0     1222164889462022144\n",
      "1     1222165280048271360\n",
      "2     1222165392795164672\n",
      "3     1222165620738928640\n",
      "4     1222166947820793856\n",
      "             ...         \n",
      "95    1225014628339666945\n",
      "96    1225014885823606785\n",
      "97    1225034168184131584\n",
      "98    1225034300070006786\n",
      "99    1225045769113063424\n",
      "Name: tweet_id, Length: 100, dtype: object\n"
     ]
    }
   ],
   "source": [
    "# Mimic getting 100 twitter ids at a time as that is max amount for twitter api tweets endpoint\n",
    "\n",
    "start = 0\n",
    "end = start+99\n",
    "# while start < 140820:\n",
    "while start < 200:\n",
    "    print(spark.sql(f\"\"\"\n",
    "        SELECT tweet_id, idx\n",
    "        FROM tweets2\n",
    "        WHERE idx BETWEEN {start} AND {end}\n",
    "    \"\"\").toPandas()['tweet_id'])\n",
    "    start = end+1\n",
    "    end = start+99"
   ]
  },
  {
   "cell_type": "code",
   "execution_count": 8,
   "metadata": {},
   "outputs": [
    {
     "name": "stdout",
     "output_type": "stream",
     "text": [
      "000000000\n",
      "000000001\n",
      "000000002\n",
      "000000003\n",
      "000000004\n",
      "000000005\n",
      "000000006\n",
      "000000007\n",
      "000000008\n",
      "000000009\n"
     ]
    }
   ],
   "source": [
    "# Example of prefixing strings to fixed length for filenames\n",
    "\n",
    "for i in range(10):\n",
    "    print(str(i).zfill(9))"
   ]
  },
  {
   "cell_type": "code",
   "execution_count": null,
   "metadata": {},
   "outputs": [],
   "source": []
  }
 ],
 "metadata": {
  "interpreter": {
   "hash": "5800c7bfc85eb6699f80c4ad64e8aa968cc6dd9b69aa79382372392221670231"
  },
  "kernelspec": {
   "display_name": "Python 3.9.0 64-bit ('venv': venv)",
   "language": "python",
   "name": "python3"
  },
  "language_info": {
   "codemirror_mode": {
    "name": "ipython",
    "version": 3
   },
   "file_extension": ".py",
   "mimetype": "text/x-python",
   "name": "python",
   "nbconvert_exporter": "python",
   "pygments_lexer": "ipython3",
   "version": "3.9.0"
  },
  "orig_nbformat": 4
 },
 "nbformat": 4,
 "nbformat_minor": 2
}
